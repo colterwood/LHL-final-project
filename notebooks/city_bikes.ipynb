{
 "cells": [
  {
   "cell_type": "markdown",
   "metadata": {},
   "source": [
    "# CityBikes"
   ]
  },
  {
   "cell_type": "markdown",
   "metadata": {},
   "source": [
    "Send a request to CityBikes for the city of your choice. "
   ]
  },
  {
   "cell_type": "code",
   "execution_count": 2,
   "metadata": {
    "scrolled": true
   },
   "outputs": [
    {
     "name": "stdout",
     "output_type": "stream",
     "text": [
      "id                                                        foli\n",
      "name                                             Fölläri bikes\n",
      "location     {'latitude': 60.4506, 'longitude': 22.2666, 'c...\n",
      "href                                         /v2/networks/foli\n",
      "company      [Turku Region Traffic Föli, DonkeyRepublic Adm...\n",
      "gbfs_href    https://stables.donkey.bike/api/public/gbfs/2/...\n",
      "stations     [{'id': '0030c4b22b6f0ed618f59b50f4d6effd', 'n...\n",
      "Name: network, dtype: object\n"
     ]
    }
   ],
   "source": [
    "import pandas as pd\n",
    "import json\n",
    "\n",
    "# URL to Turku, Finland on Citybikes\n",
    "url = \"https://api.citybik.es/v2/networks/foli\"\n",
    "\n",
    "# Read JSON from url\n",
    "data = pd.read_json(url)\n",
    "\n",
    "print(data['network'])"
   ]
  },
  {
   "cell_type": "markdown",
   "metadata": {},
   "source": [
    "Parse through the response to get the details you want for the bike stations in that city (latitude, longitude, number of bikes). "
   ]
  },
  {
   "cell_type": "code",
   "execution_count": 4,
   "metadata": {},
   "outputs": [],
   "source": [
    "# Access network column\n",
    "network_data = data['network']\n",
    "\n",
    "# Extract location and stations\n",
    "location = data.loc['location', 'network']\n",
    "stations = data.loc['stations', 'network']"
   ]
  },
  {
   "cell_type": "code",
   "execution_count": 6,
   "metadata": {},
   "outputs": [
    {
     "name": "stdout",
     "output_type": "stream",
     "text": [
      "City: Turku, Country: FI\n"
     ]
    }
   ],
   "source": [
    "#Extract city and country\n",
    "city = location['city']\n",
    "country = location['country']\n",
    "\n",
    "print(f\"City: {city}, Country: {country}\")"
   ]
  },
  {
   "cell_type": "code",
   "execution_count": 8,
   "metadata": {},
   "outputs": [],
   "source": [
    "# Extract all data for DF\n",
    "stations_data = [\n",
    "    {\n",
    "        'city': city,\n",
    "        'country': country,\n",
    "        'name': station['name'],\n",
    "        'latitude': station['latitude'],\n",
    "        'longitude': station['longitude'],\n",
    "        'slots': station['extra']['slots']  \n",
    "    }\n",
    "    for station in stations\n",
    "]"
   ]
  },
  {
   "cell_type": "markdown",
   "metadata": {},
   "source": [
    "Put your parsed results into a DataFrame."
   ]
  },
  {
   "cell_type": "code",
   "execution_count": 34,
   "metadata": {},
   "outputs": [
    {
     "name": "stdout",
     "output_type": "stream",
     "text": [
      "      city country                       name   latitude  longitude  slots\n",
      "0    Turku      FI               Asesepänkatu  60.441012  22.256590      8\n",
      "1    Turku      FI  Runosmäki Signalistinkatu  60.485777  22.268321      8\n",
      "2    Turku      FI       Sale Kupittaanpuisto  60.448001  22.288602      3\n",
      "3    Turku      FI          Sairashuoneenkatu  60.448961  22.246354      6\n",
      "4    Turku      FI     Citymarket Länsikeskus  60.472613  22.233105     10\n",
      "..     ...     ...                        ...        ...        ...    ...\n",
      "256  Turku      FI               Nosturinkatu  60.444046  22.232533     15\n",
      "257  Turku      FI                  Kaivokatu  60.452405  22.284358     10\n",
      "258  Turku      FI                   Biolinja  60.431145  22.328797      3\n",
      "259  Turku      FI                     Logomo  60.457024  22.259849     20\n",
      "260  Turku      FI                  Kaskentie  60.442213  22.279277      4\n",
      "\n",
      "[261 rows x 6 columns]\n"
     ]
    }
   ],
   "source": [
    "# Convert to df\n",
    "stations_df = pd.DataFrame(stations_data)\n",
    "\n",
    "# Print Stations DF\n",
    "print(stations_df)"
   ]
  },
  {
   "cell_type": "code",
   "execution_count": 18,
   "metadata": {},
   "outputs": [],
   "source": [
    "file_path = \"C:/Users/colte/LHL-final-project/data/stations_df.csv\""
   ]
  },
  {
   "cell_type": "code",
   "execution_count": 20,
   "metadata": {},
   "outputs": [
    {
     "name": "stdout",
     "output_type": "stream",
     "text": [
      "DataFrame saved to C:/Users/colte/LHL-final-project/data/stations_df.csv\n"
     ]
    }
   ],
   "source": [
    "stations_df.to_csv(file_path, index=False)\n",
    "\n",
    "print(f\"DataFrame saved to {file_path}\")"
   ]
  }
 ],
 "metadata": {
  "kernelspec": {
   "display_name": "Python 3 (ipykernel)",
   "language": "python",
   "name": "python3"
  },
  "language_info": {
   "codemirror_mode": {
    "name": "ipython",
    "version": 3
   },
   "file_extension": ".py",
   "mimetype": "text/x-python",
   "name": "python",
   "nbconvert_exporter": "python",
   "pygments_lexer": "ipython3",
   "version": "3.12.7"
  }
 },
 "nbformat": 4,
 "nbformat_minor": 4
}
