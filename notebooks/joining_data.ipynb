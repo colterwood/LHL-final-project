{
 "cells": [
  {
   "cell_type": "markdown",
   "metadata": {},
   "source": [
    "Join the data from Part 1 with the data from Part 2 to create a new dataframe."
   ]
  },
  {
   "cell_type": "code",
   "execution_count": 41,
   "metadata": {},
   "outputs": [
    {
     "name": "stdout",
     "output_type": "stream",
     "text": [
      "    city country          name   latitude  longitude  slots  poi_rating  \\\n",
      "0  Turku      FI  Asesepänkatu  60.441012   22.25659      8         0.0   \n",
      "1  Turku      FI  Asesepänkatu  60.441012   22.25659      8         0.0   \n",
      "2  Turku      FI  Asesepänkatu  60.441012   22.25659      8         0.0   \n",
      "3  Turku      FI  Asesepänkatu  60.441012   22.25659      8         0.0   \n",
      "4  Turku      FI  Asesepänkatu  60.441012   22.25659      8         0.0   \n",
      "\n",
      "   station_latitude  station_longitude  distance_from_station     poi_name  \\\n",
      "0         60.441012           22.25659                     85  Pub Hopotus   \n",
      "1         60.441012           22.25659                    230  Pub Hopotus   \n",
      "2         60.441012           22.25659                    245  Pub Hopotus   \n",
      "3         60.441012           22.25659                    249  Pub Hopotus   \n",
      "4         60.441012           22.25659                    264  Pub Hopotus   \n",
      "\n",
      "               poi_address poi_categories  poi_latitude  poi_longitude  \n",
      "0  Kuninkaankartanonkatu 8    Restaurants     60.439449       22.25906  \n",
      "1  Kuninkaankartanonkatu 8    Restaurants     60.439449       22.25906  \n",
      "2  Kuninkaankartanonkatu 8    Restaurants     60.439449       22.25906  \n",
      "3  Kuninkaankartanonkatu 8    Restaurants     60.439449       22.25906  \n",
      "4  Kuninkaankartanonkatu 8    Restaurants     60.439449       22.25906  \n"
     ]
    }
   ],
   "source": [
    "import pandas as pd\n",
    "\n",
    "yelp_df = pd.read_csv(\"C:/Users/colte/LHL-final-project/data/yelp_df.csv\")\n",
    "foursquare_df = pd.read_csv(\"C:/Users/colte/LHL-final-project/data/foursquare_df.csv\")\n",
    "stations_df = pd.read_csv(\"C:/Users/colte/LHL-final-project/data/stations_df.csv\")\n",
    "\n",
    "# Merge Yelp data with stations data\n",
    "stations_yelp_df = stations_df.merge(\n",
    "    yelp_df,\n",
    "    how=\"left\",\n",
    "    left_on=[\"latitude\", \"longitude\"],\n",
    "    right_on=[\"station_latitude\", \"station_longitude\"]\n",
    ")\n",
    "\n",
    "# Drop repetitive columns for station latitude and longitude\n",
    "stations_yelp_df = stations_yelp_df.drop(\n",
    "    columns=[\n",
    "        \"station_latitude\",\n",
    "        \"station_longitude\"\n",
    "    ]\n",
    ")\n",
    "\n",
    "# Create file path for stations_yelp_df_df\n",
    "stations_yelp_df_file_path = \"C:/Users/colte/LHL-final-project/data/stations_yelp_df_df.csv\"\n",
    "\n",
    "# Add stations_yelp_df_df.csv to file path\n",
    "stations_yelp_df.to_csv(stations_yelp_df_file_path, index=False)\n",
    "\n",
    "print(f\"df was saved to {stations_yelp_df_file_path}\")\n",
    "\n",
    "# Merge Foursquare data with stations_yelp data\n",
    "all_combined_df = stations_yelp_df.merge(\n",
    "    foursquare_df,\n",
    "    how=\"left\",\n",
    "    left_on=[\"latitude\", \"longitude\"],\n",
    "    right_on=[\"station_latitude\", \"station_longitude\"]\n",
    ")\n",
    "\n",
    "# Fill missing fields from Foursquare data\n",
    "columns_to_fill = [\"poi_name\", \"poi_address\", \"poi_categories\", \"poi_latitude\", \"poi_longitude\"]\n",
    "for col in columns_to_fill:\n",
    "    all_combined_df[col] = all_combined_df[f\"{col}_x\"].combine_first(all_combined_df[f\"{col}_y\"])\n",
    "\n",
    "# Drop unnecessary columns from Foursquare merge\n",
    "all_combined_df = all_combined_df.drop(\n",
    "    columns=[\n",
    "        \"poi_name_x\", \n",
    "        \"poi_address_x\", \n",
    "        \"poi_categories_x\", \n",
    "        \"poi_latitude_x\", \n",
    "        \"poi_longitude_x\",\n",
    "        \"poi_name_y\", \n",
    "        \"poi_address_y\", \n",
    "        \"poi_categories_y\", \n",
    "        \"poi_latitude_y\", \n",
    "        \"poi_longitude_y\"\n",
    "    ]\n",
    ")\n",
    "\n",
    "# Drop duplicate rows\n",
    "all_combined_df = all_combined_df.drop_duplicates(\n",
    "    subset=[\"poi_name\", \"poi_address\", \"poi_latitude\", \"poi_longitude\"]\n",
    ")\n",
    "\n",
    "# Drop repetitive columns\n",
    "all_combined_df = all_combined_df.drop(\n",
    "    columns = [\"station_latitude\", \"station_longitude\"]\n",
    ")\n",
    "\n",
    "# Rearrange column order\n",
    "columns = [\n",
    "    'city', 'country', 'name', 'latitude', 'longitude', 'slots',\n",
    "    'poi_name', 'poi_address', 'poi_rating', 'distance_from_station',\n",
    "    'poi_categories', 'poi_latitude', 'poi_longitude'    \n",
    "]\n",
    "\n",
    "# Reorder the DataFrame\n",
    "all_combined_df = all_combined_df[columns]\n",
    "\n",
    "# Reset index for all_combined_df\n",
    "all_combined_df = all_combined_df.reset_index(drop=True)\n",
    "    \n",
    "#Print results\n",
    "print(all_combined_df.head())\n",
    "\n",
    "# Create file path for all_combined_df\n",
    "all_combined_file_path = \"C:/Users/colte/LHL-final-project/data/all_combined_df.csv\"\n",
    "\n",
    "# Add all_combined_df.csv to file path\n",
    "all_combined_df.to_csv(all_combined_file_path, index=False)\n",
    "\n",
    "print(f\"df was saved to {all_combined_file_path}\")"
   ]
  },
  {
   "cell_type": "markdown",
   "metadata": {},
   "source": [
    "Provide a visualization that you used as part of your EDA process. Explain the initial pattern or relationship you discoved through this visualization. "
   ]
  },
  {
   "cell_type": "code",
   "execution_count": 69,
   "metadata": {},
   "outputs": [
    {
     "data": {
      "image/png": "[encoded data removed]",
      "text/plain": [
       "<Figure size 800x500 with 1 Axes>"
      ]
     },
     "metadata": {},
     "output_type": "display_data"
    }
   ],
   "source": [
    "import matplotlib.pyplot as plt\n",
    "\n",
    "# Combine Yelp and Foursquare ratings into one column for visualization\n",
    "all_combined_df[\"poi_rating\"] = pd.to_numeric(all_combined_df[\"poi_rating\"], errors=\"coerce\")\n",
    "ratings = all_combined_df[\"poi_rating\"].dropna()\n",
    "\n",
    "# Plot the distribution of POI ratings\n",
    "plt.figure(figsize=(8, 5))\n",
    "plt.hist(ratings, bins=10, edgecolor=\"black\", alpha=0.7)\n",
    "plt.title(\"Distribution of POI Ratings\")\n",
    "plt.xlabel(\"Rating\")\n",
    "plt.ylabel(\"Frequency\")\n",
    "plt.grid(axis=\"y\", linestyle=\"--\", alpha=0.7)\n",
    "plt.show()"
   ]
  },
  {
   "cell_type": "markdown",
   "metadata": {},
   "source": [
    "# Database"
   ]
  },
  {
   "cell_type": "markdown",
   "metadata": {},
   "source": [
    "Put all your results in an SQLite3 database (remember, SQLite stores its databases as files in your local machine - make sure to create your database in your project's data/ directory!)"
   ]
  },
  {
   "cell_type": "code",
   "execution_count": 85,
   "metadata": {},
   "outputs": [
    {
     "name": "stdout",
     "output_type": "stream",
     "text": [
      "Data successfully saved to C:/Users/colte/LHL-final-project/data/all_combined_data.db\n"
     ]
    }
   ],
   "source": [
    "import sqlite3\n",
    "import os\n",
    "\n",
    "# Create file path for db\n",
    "db_path = \"C:/Users/colte/LHL-final-project/data/all_combined_data.db\"\n",
    "\n",
    "# Connect to the SQLite database (it will be created if it doesn't exist)\n",
    "conn = sqlite3.connect(db_path)\n",
    "\n",
    "# Write the DataFrame to an SQLite table\n",
    "all_combined_df.to_sql(\"all_combined_data\", conn, if_exists=\"replace\", index=False)\n",
    "\n",
    "# Close the connection\n",
    "conn.close()\n",
    "\n",
    "print(f\"Data successfully saved to {db_path}\")"
   ]
  },
  {
   "cell_type": "markdown",
   "metadata": {},
   "source": [
    "Look at the data before and after the join to validate your data."
   ]
  },
  {
   "cell_type": "code",
   "execution_count": 87,
   "metadata": {},
   "outputs": [
    {
     "name": "stdout",
     "output_type": "stream",
     "text": [
      "Stations DataFrame:\n",
      "    city country                       name   latitude  longitude  slots\n",
      "0  Turku      FI               Asesepänkatu  60.441012  22.256590      8\n",
      "1  Turku      FI  Runosmäki Signalistinkatu  60.485777  22.268321      8\n",
      "2  Turku      FI       Sale Kupittaanpuisto  60.448001  22.288602      3\n",
      "3  Turku      FI          Sairashuoneenkatu  60.448961  22.246354      6\n",
      "4  Turku      FI     Citymarket Länsikeskus  60.472613  22.233105     10\n",
      "\n",
      "Yelp DataFrame:\n",
      "   station_latitude  station_longitude                           poi_name  \\\n",
      "0         60.441012           22.25659                        Pub Hopotus   \n",
      "1         60.441012           22.25659  Martinmäen kotiruokapalvelu Avoin   \n",
      "2         60.441012           22.25659              Naantalin Aurinkoinen   \n",
      "3         60.441012           22.25659                            Melange   \n",
      "4         60.441012           22.25659                         Maku Turku   \n",
      "\n",
      "               poi_address poi_categories  poi_rating  poi_latitude  \\\n",
      "0  Kuninkaankartanonkatu 8    Restaurants         0.0     60.439449   \n",
      "1    Tiilentekijänkatu 10J    Restaurants         0.0     60.439629   \n",
      "2             Martinkatu 3    Restaurants         0.0     60.443131   \n",
      "3             Martinkatu 3    Restaurants         0.0     60.443131   \n",
      "4          Stålarminkatu 5      Pan Asian         2.5     60.439333   \n",
      "\n",
      "   poi_longitude  \n",
      "0      22.259060  \n",
      "1      22.253693  \n",
      "2      22.256840  \n",
      "3      22.256840  \n",
      "4      22.259969  \n",
      "\n",
      "Foursquare DataFrame:\n",
      "   station_latitude  station_longitude                poi_name  \\\n",
      "0         60.441012           22.25659                   Mylly   \n",
      "1         60.441012           22.25659                    Uuni   \n",
      "2         60.441012           22.25659  Ravintola Pippurimylly   \n",
      "3         60.441012           22.25659  Kortteliravintola Hugo   \n",
      "4         60.441012           22.25659          Kasperin Yksiö   \n",
      "\n",
      "       poi_address  poi_categories  poi_latitude  poi_longitude  \\\n",
      "0     Martinkatu 7             Bar     60.441665      22.257414   \n",
      "1              NaN           Pizza     60.443080      22.256905   \n",
      "2  Stålarminkatu 2    Scandinavian     60.439324      22.259265   \n",
      "3  Stålarminkatu 2  Bar, Gastropub     60.439055      22.259166   \n",
      "4              NaN       Hotel Bar     60.438724      22.255282   \n",
      "\n",
      "   distance_from_station  \n",
      "0                     85  \n",
      "1                    230  \n",
      "2                    245  \n",
      "3                    249  \n",
      "4                    264  \n",
      "\n",
      "Stations Join Keys:\n",
      "    latitude  longitude\n",
      "0  60.441012  22.256590\n",
      "1  60.485777  22.268321\n",
      "2  60.448001  22.288602\n",
      "3  60.448961  22.246354\n",
      "4  60.472613  22.233105\n",
      "\n",
      "Yelp Join Keys:\n",
      "    station_latitude  station_longitude\n",
      "0          60.441012          22.256590\n",
      "10         60.485777          22.268321\n",
      "20         60.448001          22.288602\n",
      "30         60.448961          22.246354\n",
      "40         60.472613          22.233105\n",
      "\n",
      "Foursquare Join Keys:\n",
      "    station_latitude  station_longitude\n",
      "0          60.441012          22.256590\n",
      "10         60.485777          22.268321\n",
      "20         60.448001          22.288602\n",
      "30         60.448961          22.246354\n",
      "40         60.472613          22.233105\n"
     ]
    }
   ],
   "source": [
    "# Inspect the structure of stations_df\n",
    "print(\"Stations DataFrame:\")\n",
    "print(stations_df.head())\n",
    "\n",
    "# Inspect the structure of yelp_df\n",
    "print(\"\\nYelp DataFrame:\")\n",
    "print(yelp_df.head())\n",
    "\n",
    "# Inspect the structure of foursquare_df\n",
    "print(\"\\nFoursquare DataFrame:\")\n",
    "print(foursquare_df.head())\n",
    "\n",
    "# Ensure the join keys align correctly\n",
    "print(\"\\nStations Join Keys:\")\n",
    "print(stations_df[[\"latitude\", \"longitude\"]].drop_duplicates().head())\n",
    "\n",
    "print(\"\\nYelp Join Keys:\")\n",
    "print(yelp_df[[\"station_latitude\", \"station_longitude\"]].drop_duplicates().head())\n",
    "\n",
    "print(\"\\nFoursquare Join Keys:\")\n",
    "print(foursquare_df[[\"station_latitude\", \"station_longitude\"]].drop_duplicates().head())"
   ]
  },
  {
   "cell_type": "code",
   "execution_count": 89,
   "metadata": {},
   "outputs": [
    {
     "name": "stdout",
     "output_type": "stream",
     "text": [
      "\n",
      "Combined DataFrame After Join:\n",
      "    city country          name   latitude  longitude  slots  \\\n",
      "0  Turku      FI  Asesepänkatu  60.441012   22.25659      8   \n",
      "1  Turku      FI  Asesepänkatu  60.441012   22.25659      8   \n",
      "2  Turku      FI  Asesepänkatu  60.441012   22.25659      8   \n",
      "3  Turku      FI  Asesepänkatu  60.441012   22.25659      8   \n",
      "4  Turku      FI  Asesepänkatu  60.441012   22.25659      8   \n",
      "\n",
      "                            poi_name              poi_address  poi_rating  \\\n",
      "0                        Pub Hopotus  Kuninkaankartanonkatu 8         0.0   \n",
      "1  Martinmäen kotiruokapalvelu Avoin    Tiilentekijänkatu 10J         0.0   \n",
      "2              Naantalin Aurinkoinen             Martinkatu 3         0.0   \n",
      "3                            Melange             Martinkatu 3         0.0   \n",
      "4                         Maku Turku          Stålarminkatu 5         2.5   \n",
      "\n",
      "   distance_from_station poi_categories  poi_latitude  poi_longitude  \n",
      "0                     85    Restaurants     60.439449      22.259060  \n",
      "1                     85    Restaurants     60.439629      22.253693  \n",
      "2                     85    Restaurants     60.443131      22.256840  \n",
      "3                     85    Restaurants     60.443131      22.256840  \n",
      "4                     85      Pan Asian     60.439333      22.259969  \n",
      "\n",
      "Rows with Missing POI Data: 0\n",
      "Empty DataFrame\n",
      "Columns: [city, country, name, latitude, longitude, slots, poi_name, poi_address, poi_rating, distance_from_station, poi_categories, poi_latitude, poi_longitude]\n",
      "Index: []\n",
      "\n",
      "Number of Duplicate Rows: 0\n",
      "\n",
      "Combined DataFrame Columns:\n",
      "Index(['city', 'country', 'name', 'latitude', 'longitude', 'slots', 'poi_name',\n",
      "       'poi_address', 'poi_rating', 'distance_from_station', 'poi_categories',\n",
      "       'poi_latitude', 'poi_longitude'],\n",
      "      dtype='object')\n"
     ]
    }
   ],
   "source": [
    "# Inspect the resulting DataFrame\n",
    "print(\"\\nCombined DataFrame After Join:\")\n",
    "print(all_combined_df.head())\n",
    "\n",
    "# Check for rows with missing POI data\n",
    "missing_poi = all_combined_df[all_combined_df[\"poi_name\"].isna()]\n",
    "print(f\"\\nRows with Missing POI Data: {len(missing_poi)}\")\n",
    "print(missing_poi.head())\n",
    "\n",
    "# Validate join integrity by checking duplicate rows\n",
    "duplicates = all_combined_df.duplicated(subset=[\"latitude\", \"longitude\", \"poi_name\"])\n",
    "print(f\"\\nNumber of Duplicate Rows: {duplicates.sum()}\")\n",
    "\n",
    "# Check for key columns\n",
    "print(\"\\nCombined DataFrame Columns:\")\n",
    "print(all_combined_df.columns)\n"
   ]
  }
 ],
 "metadata": {
  "kernelspec": {
   "display_name": "Python 3 (ipykernel)",
   "language": "python",
   "name": "python3"
  },
  "language_info": {
   "codemirror_mode": {
    "name": "ipython",
    "version": 3
   },
   "file_extension": ".py",
   "mimetype": "text/x-python",
   "name": "python",
   "nbconvert_exporter": "python",
   "pygments_lexer": "ipython3",
   "version": "3.12.7"
  }
 },
 "nbformat": 4,
 "nbformat_minor": 4
}
