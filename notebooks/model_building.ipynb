{
 "cells": [
  {
   "cell_type": "markdown",
   "metadata": {},
   "source": [
    "Build a regression model."
   ]
  },
  {
   "cell_type": "code",
   "execution_count": 33,
   "metadata": {},
   "outputs": [
    {
     "name": "stdout",
     "output_type": "stream",
     "text": [
      "                            OLS Regression Results                            \n",
      "==============================================================================\n",
      "Dep. Variable:                  slots   R-squared:                       0.040\n",
      "Model:                            OLS   Adj. R-squared:                  0.037\n",
      "Method:                 Least Squares   F-statistic:                     12.13\n",
      "Date:                Thu, 12 Dec 2024   Prob (F-statistic):           6.92e-06\n",
      "Time:                        16:35:40   Log-Likelihood:                -2120.4\n",
      "No. Observations:                 588   AIC:                             4247.\n",
      "Df Residuals:                     585   BIC:                             4260.\n",
      "Df Model:                           2                                         \n",
      "Covariance Type:            nonrobust                                         \n",
      "=========================================================================================\n",
      "                            coef    std err          t      P>|t|      [0.025      0.975]\n",
      "-----------------------------------------------------------------------------------------\n",
      "const                    14.1345      0.659     21.444      0.000      12.840      15.429\n",
      "poi_rating                0.4811      0.244      1.974      0.049       0.002       0.960\n",
      "distance_from_station    -0.0262      0.006     -4.455      0.000      -0.038      -0.015\n",
      "==============================================================================\n",
      "Omnibus:                      237.325   Durbin-Watson:                   0.395\n",
      "Prob(Omnibus):                  0.000   Jarque-Bera (JB):              857.134\n",
      "Skew:                           1.904   Prob(JB):                    7.51e-187\n",
      "Kurtosis:                       7.526   Cond. No.                         195.\n",
      "==============================================================================\n",
      "\n",
      "Notes:\n",
      "[1] Standard Errors assume that the covariance matrix of the errors is correctly specified.\n"
     ]
    }
   ],
   "source": [
    "import pandas as pd\n",
    "import statsmodels.api as sm\n",
    "\n",
    "data = pd.read_csv(\"C:/Users/colte/LHL-final-project/data/all_combined_df.csv\")\n",
    "\n",
    "# Set X\n",
    "X = data[[\"poi_rating\", \"distance_from_station\"]]\n",
    "X = X.fillna(0)\n",
    "\n",
    "# Set slots as y\n",
    "y = data['slots']\n",
    "\n",
    "# Add constant\n",
    "X = sm.add_constant(X)\n",
    "\n",
    "# Fit model\n",
    "model = sm.OLS(y,X).fit()"
   ]
  },
  {
   "cell_type": "markdown",
   "metadata": {},
   "source": [
    "Provide model output and an interpretation of the results. "
   ]
  },
  {
   "cell_type": "code",
   "execution_count": 27,
   "metadata": {},
   "outputs": [
    {
     "name": "stdout",
     "output_type": "stream",
     "text": [
      "city                      object\n",
      "country                   object\n",
      "name                      object\n",
      "latitude                 float64\n",
      "longitude                float64\n",
      "slots                      int64\n",
      "poi_name                  object\n",
      "poi_address               object\n",
      "poi_rating               float64\n",
      "distance_from_station      int64\n",
      "poi_categories            object\n",
      "poi_latitude             float64\n",
      "poi_longitude            float64\n",
      "dtype: object\n"
     ]
    }
   ],
   "source": [
    "# Print summary\n",
    "print(model.summary())"
   ]
  },
  {
   "cell_type": "code",
   "execution_count": 42,
   "metadata": {},
   "outputs": [
    {
     "name": "stdout",
     "output_type": "stream",
     "text": [
      "                                 OLS Regression Results                                \n",
      "=======================================================================================\n",
      "Dep. Variable:                  slots   R-squared (uncentered):                   0.348\n",
      "Model:                            OLS   Adj. R-squared (uncentered):              0.346\n",
      "Method:                 Least Squares   F-statistic:                              312.8\n",
      "Date:                Thu, 12 Dec 2024   Prob (F-statistic):                    2.02e-56\n",
      "Time:                        16:39:03   Log-Likelihood:                         -2306.7\n",
      "No. Observations:                 588   AIC:                                      4615.\n",
      "Df Residuals:                     587   BIC:                                      4620.\n",
      "Df Model:                           1                                                  \n",
      "Covariance Type:            nonrobust                                                  \n",
      "=========================================================================================\n",
      "                            coef    std err          t      P>|t|      [0.025      0.975]\n",
      "-----------------------------------------------------------------------------------------\n",
      "distance_from_station     0.0824      0.005     17.685      0.000       0.073       0.092\n",
      "==============================================================================\n",
      "Omnibus:                       73.246   Durbin-Watson:                   0.392\n",
      "Prob(Omnibus):                  0.000   Jarque-Bera (JB):              105.590\n",
      "Skew:                           0.867   Prob(JB):                     1.18e-23\n",
      "Kurtosis:                       4.142   Cond. No.                         1.00\n",
      "==============================================================================\n",
      "\n",
      "Notes:\n",
      "[1] R² is computed without centering (uncentered) since the model does not contain a constant.\n",
      "[2] Standard Errors assume that the covariance matrix of the errors is correctly specified.\n"
     ]
    }
   ],
   "source": [
    "# Set X2\n",
    "X2 = data[[\"distance_from_station\"]]\n",
    "\n",
    "# Fit model2\n",
    "model2 = sm.OLS(y,X2).fit()\n",
    "\n",
    "# Print model2 summary\n",
    "print(model2.summary())"
   ]
  },
  {
   "cell_type": "markdown",
   "metadata": {},
   "source": [
    "# Stretch"
   ]
  },
  {
   "cell_type": "markdown",
   "metadata": {},
   "source": [
    "How can you turn the regression model into a classification model?"
   ]
  },
  {
   "cell_type": "code",
   "execution_count": null,
   "metadata": {},
   "outputs": [],
   "source": []
  }
 ],
 "metadata": {
  "kernelspec": {
   "display_name": "Python 3 (ipykernel)",
   "language": "python",
   "name": "python3"
  },
  "language_info": {
   "codemirror_mode": {
    "name": "ipython",
    "version": 3
   },
   "file_extension": ".py",
   "mimetype": "text/x-python",
   "name": "python",
   "nbconvert_exporter": "python",
   "pygments_lexer": "ipython3",
   "version": "3.12.7"
  }
 },
 "nbformat": 4,
 "nbformat_minor": 4
}
