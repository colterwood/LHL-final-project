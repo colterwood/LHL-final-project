{
 "cells": [
  {
   "cell_type": "code",
   "execution_count": 2,
   "metadata": {},
   "outputs": [],
   "source": [
    "import pandas as pd\n",
    "import json\n",
    "import requests\n",
    "\n",
    "city_bikes_data = pd.read_csv(\"C:/Users/colte/LHL-final-project/data/stations_df.csv\")"
   ]
  },
  {
   "cell_type": "code",
   "execution_count": 13,
   "metadata": {},
   "outputs": [],
   "source": [
    "# Set latitude and longitude for params\n",
    "latitude = city_bikes_data['latitude'].iloc[0]\n",
    "longitude = city_bikes_data['longitude'].iloc[0]"
   ]
  },
  {
   "cell_type": "markdown",
   "metadata": {},
   "source": [
    "# Foursquare"
   ]
  },
  {
   "cell_type": "markdown",
   "metadata": {},
   "source": [
    "Send a request to Foursquare with a small radius (1000m) for all the bike stations in your city of choice. "
   ]
  },
  {
   "cell_type": "code",
   "execution_count": 49,
   "metadata": {
    "scrolled": true
   },
   "outputs": [],
   "source": [
    "# Foursquare API Key\n",
    "FOURSQUARE_KEY = 'fsq3nRLHnLQh2Y02PDBx8qcYaOIKIzeNRUXditJZC30vLIU='\n",
    "\n",
    "# Foursquare url\n",
    "foursquare_url = \"https://api.foursquare.com/v3/places/search\"\n",
    "\n",
    "# Foursquare categories for params\n",
    "foursquare_categories = \"13065,13003,17043,17048\"\n",
    "\n",
    "# Foursquare header\n",
    "foursquare_headers = {\n",
    "    \"accept\": \"application/json\",\n",
    "    \"Authorization\": f\"{FOURSQUARE_KEY}\"\n",
    "}\n",
    "\n",
    "# Create Foursquare empty list\n",
    "foursquare_results = []\n",
    "\n",
    "# Iterate through first 5 rows\n",
    "for _, row in city_bikes_data.iterrows():\n",
    "    latitude = row['latitude']\n",
    "    longitude = row['longitude']\n",
    "\n",
    "    # Foursquare params\n",
    "    foursquare_params = {\n",
    "    \"ll\": f\"{latitude},{longitude}\",\n",
    "    \"radius\": 1000,\n",
    "    \"limit\": 10,\n",
    "    \"categories\": foursquare_categories,\n",
    "    \"sort\": \"DISTANCE\"\n",
    "    }\n",
    "    \n",
    "    # Call API\n",
    "    foursquare_response = requests.get(foursquare_url, headers=foursquare_headers, params=foursquare_params)\n",
    "\n",
    "    if foursquare_response.status_code == 200:\n",
    "        foursquare_data = foursquare_response.json().get(\"results\", [])\n",
    "        for business in foursquare_data:\n",
    "            foursquare_results.append({\n",
    "                \"station_latitude\": latitude,\n",
    "                \"station_longitude\": longitude,\n",
    "                \"poi_name\": business.get(\"name\"),\n",
    "                \"poi_address\": business.get(\"location\", {}).get(\"address\", \"N/A\"),\n",
    "                \"poi_categories\": \", \".join([cat[\"short_name\"] for cat in business.get(\"categories\", [])]),\n",
    "                \"poi_latitude\": business.get(\"geocodes\", {}).get(\"main\", {}).get(\"latitude\", \"N/A\"),\n",
    "                \"poi_longitude\": business.get(\"geocodes\", {}).get(\"main\", {}).get(\"longitude\", \"N/A\"),\n",
    "                \"distance_from_station\": business.get(\"distance\", \"N/A\")\n",
    "            })\n",
    "    else:\n",
    "        print(f\"Failed to fetch data for latitude {latitude}, longitude {longitude}: {foursquare_response.status_code}\")\n",
    "\n",
    "\n",
    "# print(foursquare_response.text) # Used for checking code worked correctly when it was run for just first row"
   ]
  },
  {
   "cell_type": "markdown",
   "metadata": {},
   "source": [
    "Parse through the response to get the POI (such as restaurants, bars, etc) details you want (ratings, name, location, etc)"
   ]
  },
  {
   "cell_type": "code",
   "execution_count": 105,
   "metadata": {},
   "outputs": [
    {
     "name": "stdout",
     "output_type": "stream",
     "text": [
      "name: Kortteliravintola Hugo, address: Stålarminkatu 2, rating: N/A, categories: Bar, Gastropub\n",
      "name: Vaate & Paikka, address: N/A, rating: N/A, categories: Apparel\n",
      "name: Kasperin Yksiö, address: N/A, rating: N/A, categories: Hotel Bar\n"
     ]
    }
   ],
   "source": [
    "# # Used for testing code on first row\n",
    "# # Put response data into a dict\n",
    "# foursquare_data = foursquare_response.json()\n",
    "\n",
    "# # Used for testing code on first row\n",
    "# # Find the appropriate fields for business name, category, address, and rating\n",
    "# for business in foursquare_data.get(\"results\", []):\n",
    "#     name = business.get(\"name\")\n",
    "#     categories = [category[\"short_name\"] for category in business.get(\"categories\", [])]\n",
    "#     rating = business.get(\"rating\", 'N/A')\n",
    "#     address = business.get(\"location\", {}).get(\"address\", \"N/A\")\n",
    "#     print(f\"name: {name}, address: {address}, rating: {rating}, categories: {', '.join(categories)}\")\n",
    "\n"
   ]
  },
  {
   "cell_type": "markdown",
   "metadata": {},
   "source": [
    "Put your parsed results into a DataFrame"
   ]
  },
  {
   "cell_type": "code",
   "execution_count": 53,
   "metadata": {},
   "outputs": [
    {
     "name": "stdout",
     "output_type": "stream",
     "text": [
      "   station_latitude  station_longitude poi_name   poi_address poi_categories  \\\n",
      "0         60.441012           22.25659    Mylly  Martinkatu 7            Bar   \n",
      "1         60.441012           22.25659     Uuni           N/A          Pizza   \n",
      "\n",
      "   poi_latitude  poi_longitude  distance_from_station  \n",
      "0     60.441665      22.257414                     85  \n",
      "1     60.443080      22.256905                    230  \n",
      "df was saved to C:/Users/colte/LHL-final-project/data/foursquare_df.csv\n"
     ]
    }
   ],
   "source": [
    "# # Used for testing code on first row\n",
    "# # Extract business list\n",
    "# foursquare_businesses = foursquare_data.get(\"results\", [])\n",
    "\n",
    "# # Used for testing code on first row\n",
    "# #Create list of required fields from the foursquare dict\n",
    "# foursquare_list = [\n",
    "#     {\n",
    "#         \"name\": business.get(\"name\"),\n",
    "#         \"address\": business.get(\"location\", {}).get(\"address\", \"N/A\"),\n",
    "#         \"categories\": \", \".join([category[\"short_name\"] for category in business.get(\"categories\", [])]),\n",
    "#         \"rating\": business.get(\"rating\", None),\n",
    "#         \"latitude\": business.get(\"geocodes\", {}).get(\"main\", {}).get(\"latitude\", \"N/A\"),\n",
    "#         \"longitude\": business.get(\"geocodes\", {}).get(\"main\", {}).get(\"longitude\", \"N/A\")\n",
    "#     }\n",
    "#     for business in foursquare_businesses\n",
    "# ]\n",
    "\n",
    "# # Used for testing code on first row\n",
    "# # Convert list to df\n",
    "# foursquare_df = pd.DataFrame(foursquare_list)\n",
    "\n",
    "# Convert results to a DataFrame\n",
    "foursquare_df = pd.DataFrame(foursquare_results)\n",
    "\n",
    "# Display the results\n",
    "print(foursquare_df.head(2))\n",
    "\n",
    "# Create file path for foursquare df\n",
    "foursquare_file_path = \"C:/Users/colte/LHL-final-project/data/foursquare_df.csv\"\n",
    "\n",
    "# Add foursquare_df.csv to file path\n",
    "foursquare_df.to_csv(foursquare_file_path, index=False)\n",
    "\n",
    "print(f\"df was saved to {foursquare_file_path}\")"
   ]
  },
  {
   "cell_type": "markdown",
   "metadata": {},
   "source": [
    "# Yelp"
   ]
  },
  {
   "cell_type": "markdown",
   "metadata": {},
   "source": [
    "Send a request to Yelp with a small radius (1000m) for all the bike stations in your city of choice. "
   ]
  },
  {
   "cell_type": "code",
   "execution_count": 55,
   "metadata": {},
   "outputs": [],
   "source": [
    "# Yelp API Key\n",
    "YELP_KEY = 'ny8E6_YvMJMaxR8895q-m4dxWtNwB0HaxfYWA78EJ0xKTlhPHTo6hbN-oqeDea6SYJcR6xHtBGnmXm5QH8n3ohjlg63LkCG5BGgVkJppyyLJ1N08bdYbCzsTGPtYZ3Yx'\n",
    "\n",
    "# Yelp url\n",
    "yelp_url = \"https://api.yelp.com/v3/businesses/search\"\n",
    "\n",
    "# Yelp categories for params\n",
    "yelp_categories = \"restaurants, bars, streetwear, sneakers, clothing, shoe\"\n",
    "\n",
    "#Yelp header\n",
    "yelp_headers = {\n",
    "    \"accept\": \"application/json\",\n",
    "    \"Authorization\": f\"Bearer {YELP_KEY}\"\n",
    "}\n",
    "\n",
    "\n",
    "# # Used for testing code on first row\n",
    "# yelp_params = {\n",
    "#     \"sort_by\": \"distance\",\n",
    "#     \"limit\": 10,\n",
    "#     \"radius\": 1000,\n",
    "#     \"latitude\": latitude,\n",
    "#     \"longitude\": longitude,\n",
    "#     \"categories\": yelp_categories\n",
    "# }\n",
    "\n",
    "# # Used for testing code on first row\n",
    "# response = requests.get(yelp_url, headers=yelp_headers, params=yelp_params)\n",
    "\n",
    "# # Used for testing code on first row\n",
    "# print(response.text)\n",
    "\n",
    "# Create Yelp empty list\n",
    "yelp_results = []\n",
    "\n",
    "# Iterate through first 5 rows\n",
    "for _, row in city_bikes_data.iterrows():\n",
    "    latitude = row['latitude']\n",
    "    longitude = row['longitude']\n",
    "\n",
    "    # Yelp params\n",
    "    yelp_params = {\n",
    "        \"sort_by\": \"distance\",\n",
    "        \"limit\": 10,\n",
    "        \"radius\": 1000,\n",
    "        \"latitude\": latitude,\n",
    "        \"longitude\": longitude,\n",
    "        \"categories\": yelp_categories\n",
    "    }\n",
    "    \n",
    "    # Call API\n",
    "    yelp_response = requests.get(yelp_url, headers=yelp_headers, params=yelp_params)\n",
    "\n",
    "    if yelp_response.status_code == 200:\n",
    "        yelp_data = yelp_response.json().get(\"businesses\", [])\n",
    "        for business in yelp_data:\n",
    "            yelp_results.append({\n",
    "                \"station_latitude\": latitude,\n",
    "                \"station_longitude\": longitude,\n",
    "                \"poi_name\": business.get(\"name\"),\n",
    "                \"poi_address\": business.get(\"location\", {}).get(\"address1\", \"N/A\"),\n",
    "                \"poi_categories\": \", \".join([category[\"title\"] for category in business.get(\"categories\", [])]),\n",
    "                \"poi_rating\": business.get(\"rating\", None),\n",
    "                \"poi_latitude\": business.get(\"coordinates\", {}).get(\"latitude\", \"N/A\"),\n",
    "                \"poi_longitude\": business.get(\"coordinates\", {}).get(\"longitude\", \"N/A\")\n",
    "            })\n",
    "    else:\n",
    "        print(f\"Failed to fetch data for latitude {latitude}, longitude {longitude}: {yelp_response.status_code}\")\n"
   ]
  },
  {
   "cell_type": "markdown",
   "metadata": {},
   "source": [
    "Parse through the response to get the POI (such as restaurants, bars, etc) details you want (ratings, name, location, etc)"
   ]
  },
  {
   "cell_type": "code",
   "execution_count": 78,
   "metadata": {},
   "outputs": [
    {
     "name": "stdout",
     "output_type": "stream",
     "text": [
      "name: Pub Hopotus, address: Kuninkaankartanonkatu 8, rating: 0.0, categories: Restaurants\n",
      "name: Martinmäen kotiruokapalvelu Avoin, address: Tiilentekijänkatu 10J, rating: 0.0, categories: Restaurants\n",
      "name: Naantalin Aurinkoinen, address: Martinkatu 3, rating: 0.0, categories: Restaurants\n",
      "name: Melange, address: Martinkatu 3, rating: 0.0, categories: Restaurants\n",
      "name: Maku Turku, address: Stålarminkatu 5, rating: 2.5, categories: Pan Asian\n",
      "name: Ravintola Pippurimylly, address: Stålarminkatu 2, rating: 4.7, categories: Steakhouses\n",
      "name: designed by oodi pr, address: Tiilentekijänkatu 3B A, rating: 0.0, categories: Restaurants\n",
      "name: Haarala Tiina, address: Itäinen Rantakatu 48H 242, rating: 0.0, categories: Restaurants\n",
      "name: Ravintola-Pizzeria Ranta-Osku avoin, address: Martinkatu 1, rating: 0.0, categories: Restaurants\n",
      "name: T:mi Maryam-M, address: Martinkatu 1, rating: 0.0, categories: Restaurants\n"
     ]
    }
   ],
   "source": [
    "# # Used for testing code on first row\n",
    "# # Put response data into a dict\n",
    "# yelp_data = response.json()\n",
    "\n",
    "# # Used for testing code on first row\n",
    "# # Find the appropriate fields for business name, category, address, and rating\n",
    "# for business in yelp_data.get(\"businesses\", []):\n",
    "#     name = business.get(\"name\")\n",
    "#     categories = [category[\"title\"] for category in business.get(\"categories\", [])]\n",
    "#     rating = business.get(\"rating\", 'N/A')\n",
    "#     address = business.get(\"location\", {}).get(\"address1\", \"\")\n",
    "#     print(f\"name: {name}, address: {address}, rating: {rating}, categories: {', '.join(categories)}\")"
   ]
  },
  {
   "cell_type": "markdown",
   "metadata": {},
   "source": [
    "Put your parsed results into a DataFrame"
   ]
  },
  {
   "cell_type": "code",
   "execution_count": 59,
   "metadata": {},
   "outputs": [
    {
     "name": "stdout",
     "output_type": "stream",
     "text": [
      "   station_latitude  station_longitude                           poi_name  \\\n",
      "0         60.441012           22.25659                        Pub Hopotus   \n",
      "1         60.441012           22.25659  Martinmäen kotiruokapalvelu Avoin   \n",
      "\n",
      "               poi_address poi_categories  poi_rating  poi_latitude  \\\n",
      "0  Kuninkaankartanonkatu 8    Restaurants         0.0     60.439449   \n",
      "1    Tiilentekijänkatu 10J    Restaurants         0.0     60.439629   \n",
      "\n",
      "   poi_longitude  \n",
      "0      22.259060  \n",
      "1      22.253693  \n",
      "df was saved to C:/Users/colte/LHL-final-project/data/yelp_df.csv\n"
     ]
    }
   ],
   "source": [
    "# # Used for testing code on first row\n",
    "# # Extract business list\n",
    "# yelp_businesses = yelp_data.get(\"businesses\", [])\n",
    "\n",
    "# # Used for testing code on first row\n",
    "# #Create list of required fields from the yelp dict\n",
    "# yelp_list = [\n",
    "#     {\n",
    "#         \"name\": business.get(\"name\"),\n",
    "#         \"address\": business.get(\"location\", {}).get(\"address1\", \"\"),\n",
    "#         \"categories\": \", \".join([category[\"title\"] for category in business.get(\"categories\", [])]),\n",
    "#         \"rating\": business.get(\"rating\", None),\n",
    "#         \"latitude\": business.get(\"coordinates\", {}).get(\"latitude\"),\n",
    "#         \"longitude\": business.get(\"coordinates\", {}).get(\"longitude\")\n",
    "#     }\n",
    "#     for business in yelp_businesses\n",
    "# ]\n",
    "\n",
    "# # Used for testing code on first row\n",
    "# # Convert list to df\n",
    "# yelp_df = pd.DataFrame(yelp_list)\n",
    "\n",
    "# Convert results to a DataFrame\n",
    "yelp_df = pd.DataFrame(yelp_results)\n",
    "\n",
    "# Display the results\n",
    "print(yelp_df.head(2))\n",
    "\n",
    "# Create file path for yelp df\n",
    "yelp_file_path = \"C:/Users/colte/LHL-final-project/data/yelp_df.csv\"\n",
    "\n",
    "# Add yelp_df.csv to file path\n",
    "yelp_df.to_csv(yelp_file_path, index=False)\n",
    "\n",
    "print(f\"df was saved to {yelp_file_path}\")"
   ]
  },
  {
   "cell_type": "markdown",
   "metadata": {},
   "source": [
    "# Comparing Results"
   ]
  },
  {
   "cell_type": "markdown",
   "metadata": {},
   "source": [
    "Which API provided you with more complete data? Provide an explanation. "
   ]
  },
  {
   "cell_type": "markdown",
   "metadata": {},
   "source": []
  },
  {
   "cell_type": "markdown",
   "metadata": {},
   "source": [
    "Get the top 10 restaurants according to their rating"
   ]
  },
  {
   "cell_type": "code",
   "execution_count": 79,
   "metadata": {},
   "outputs": [
    {
     "name": "stdout",
     "output_type": "stream",
     "text": [
      "                     poi_name             poi_address  poi_rating\n",
      "0            Orikedon Taverna  Vanha Tampereentie 137         5.0\n",
      "1  Yangtze Chinese Restaurant            Hämeenkatu 9         5.0\n",
      "2                      Sahara       Aninkaistenkatu 5         5.0\n",
      "3                Roster Turku      Tuomiokirkonkatu 6         5.0\n",
      "4  Yangtze Chinese Restaurant            Hämeenkatu 9         5.0\n",
      "5           Ravintola Carlina       Aninkaistenkatu 3         5.0\n",
      "6                 Bagel House      Yliopistonkatu 3 0         5.0\n",
      "7      Dalia Kebab & Pizzeria            Martinkatu 1         5.0\n",
      "8       Pink Vanilla Desserts          Kauppiaskatu 9         5.0\n",
      "9            Orikedon Taverna  Vanha Tampereentie 137         5.0\n"
     ]
    }
   ],
   "source": [
    "top_rated = yelp_df[[\"poi_name\", \"poi_address\", \"poi_rating\"]].sort_values(by=\"poi_rating\", ascending=False).head(10)\n",
    "top_rated = top_rated.reset_index(drop=True)\n",
    "\n",
    "print(top_rated)"
   ]
  }
 ],
 "metadata": {
  "kernelspec": {
   "display_name": "Python 3 (ipykernel)",
   "language": "python",
   "name": "python3"
  },
  "language_info": {
   "codemirror_mode": {
    "name": "ipython",
    "version": 3
   },
   "file_extension": ".py",
   "mimetype": "text/x-python",
   "name": "python",
   "nbconvert_exporter": "python",
   "pygments_lexer": "ipython3",
   "version": "3.12.7"
  }
 },
 "nbformat": 4,
 "nbformat_minor": 4
}
