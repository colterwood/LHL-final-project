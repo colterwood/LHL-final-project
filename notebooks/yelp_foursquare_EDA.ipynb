{
 "cells": [
  {
   "cell_type": "code",
   "execution_count": 6,
   "metadata": {},
   "outputs": [
    {
     "name": "stdout",
     "output_type": "stream",
     "text": [
      "    city country                       name   latitude  longitude  slots\n",
      "0  Turku      FI               Asesepänkatu  60.441012  22.256590      8\n",
      "1  Turku      FI  Runosmäki Signalistinkatu  60.485777  22.268321      8\n",
      "2  Turku      FI       Sale Kupittaanpuisto  60.448001  22.288602      3\n",
      "3  Turku      FI          Sairashuoneenkatu  60.448961  22.246354      6\n",
      "4  Turku      FI     Citymarket Länsikeskus  60.472613  22.233105     10\n"
     ]
    }
   ],
   "source": [
    "import pandas as pd\n",
    "import json\n",
    "import requests\n",
    "\n",
    "city_bikes_data = pd.read_csv(\"C:/Users/colte/LHL-final-project/data/stations_df.csv\")"
   ]
  },
  {
   "cell_type": "code",
   "execution_count": null,
   "metadata": {},
   "outputs": [],
   "source": [
    "# Set latitude and longitude for params\n",
    "latitude = city_bikes_data['latitude']\n",
    "longitude = city_bikes_data['longitude']"
   ]
  },
  {
   "cell_type": "markdown",
   "metadata": {},
   "source": [
    "# Foursquare"
   ]
  },
  {
   "cell_type": "markdown",
   "metadata": {},
   "source": [
    "Send a request to Foursquare with a small radius (1000m) for all the bike stations in your city of choice. "
   ]
  },
  {
   "cell_type": "code",
   "execution_count": 99,
   "metadata": {},
   "outputs": [
    {
     "name": "stdout",
     "output_type": "stream",
     "text": [
      "{\"results\":[{\"fsq_id\":\"4b93ec56f964a5201c5a34e3\",\"categories\":[{\"id\":13003,\"name\":\"Bar\",\"short_name\":\"Bar\",\"plural_name\":\"Bars\",\"icon\":{\"prefix\":\"https://ss3.4sqi.net/img/categories_v2/nightlife/pub_\",\"suffix\":\".png\"}},{\"id\":13057,\"name\":\"Gastropub\",\"short_name\":\"Gastropub\",\"plural_name\":\"Gastropubs\",\"icon\":{\"prefix\":\"https://ss3.4sqi.net/img/categories_v2/food/gastropub_\",\"suffix\":\".png\"}}],\"chains\":[],\"closed_bucket\":\"LikelyOpen\",\"distance\":249,\"geocodes\":{\"main\":{\"latitude\":60.439055,\"longitude\":22.259166},\"roof\":{\"latitude\":60.439055,\"longitude\":22.259166}},\"link\":\"/v3/places/4b93ec56f964a5201c5a34e3\",\"location\":{\"address\":\"Stålarminkatu 2\",\"country\":\"FI\",\"cross_street\":\"\",\"formatted_address\":\"Stålarminkatu 2, 20810 Turku\",\"locality\":\"Turku\",\"postcode\":\"20810\",\"region\":\"Varsinais-Suomi\"},\"name\":\"Kortteliravintola Hugo\",\"related_places\":{},\"timezone\":\"Europe/Helsinki\"},{\"fsq_id\":\"5108fdade4b0f42b072b1bdd\",\"categories\":[{\"id\":17043,\"name\":\"Clothing Store\",\"short_name\":\"Apparel\",\"plural_name\":\"Clothing Stores\",\"icon\":{\"prefix\":\"https://ss3.4sqi.net/img/categories_v2/shops/apparel_\",\"suffix\":\".png\"}}],\"chains\":[],\"closed_bucket\":\"LikelyOpen\",\"distance\":264,\"geocodes\":{\"drop_off\":{\"latitude\":60.438581,\"longitude\":22.255328},\"main\":{\"latitude\":60.438724,\"longitude\":22.255282},\"roof\":{\"latitude\":60.438724,\"longitude\":22.255282}},\"link\":\"/v3/places/5108fdade4b0f42b072b1bdd\",\"location\":{\"country\":\"FI\",\"cross_street\":\"\",\"formatted_address\":\"\"},\"name\":\"Vaate & Paikka\",\"related_places\":{},\"timezone\":\"Europe/Helsinki\"},{\"fsq_id\":\"54a421e9498e9be465c811a4\",\"categories\":[{\"id\":13013,\"name\":\"Hotel Bar\",\"short_name\":\"Hotel Bar\",\"plural_name\":\"Hotel Bars\",\"icon\":{\"prefix\":\"https://ss3.4sqi.net/img/categories_v2/travel/hotel_bar_\",\"suffix\":\".png\"}}],\"chains\":[],\"closed_bucket\":\"LikelyOpen\",\"distance\":264,\"geocodes\":{\"main\":{\"latitude\":60.438724,\"longitude\":22.255282},\"roof\":{\"latitude\":60.438724,\"longitude\":22.255282}},\"link\":\"/v3/places/54a421e9498e9be465c811a4\",\"location\":{\"country\":\"FI\",\"cross_street\":\"\",\"formatted_address\":\"\"},\"name\":\"Kasperin Yksiö\",\"related_places\":{},\"timezone\":\"Europe/Helsinki\"}],\"context\":{\"geo_bounds\":{\"circle\":{\"center\":{\"latitude\":60.441012,\"longitude\":22.2565895},\"radius\":1000}}}}\n"
     ]
    }
   ],
   "source": [
    "# Foursquare API Key\n",
    "FOURSQUARE_KEY = 'fsq3nRLHnLQh2Y02PDBx8qcYaOIKIzeNRUXditJZC30vLIU='\n",
    "\n",
    "# Foursquare url\n",
    "foursquare_url = \"https://api.foursquare.com/v3/places/search\"\n",
    "\n",
    "# Foursquare categories for params\n",
    "foursquare_categories = \"13065,13003,17043,17048\"\n",
    "\n",
    "# Foursquare header\n",
    "foursquare_headers = {\n",
    "    \"accept\": \"application/json\",\n",
    "    \"Authorization\": f\"{FOURSQUARE_KEY}\"\n",
    "}\n",
    "\n",
    "# Foursquare params\n",
    "foursquare_params = {\n",
    "    \"ll\": f\"{latitude},{longitude}\",\n",
    "    \"radius\": 1000,\n",
    "    \"limit\": 10,\n",
    "    \"categories\": foursquare_categories,\n",
    "    \"sort\": \"DISTANCE\"\n",
    "}\n",
    "\n",
    "foursquare_response = requests.get(foursquare_url, headers=foursquare_headers, params=foursquare_params)\n",
    "\n",
    "print(foursquare_response.text)"
   ]
  },
  {
   "cell_type": "markdown",
   "metadata": {},
   "source": [
    "Parse through the response to get the POI (such as restaurants, bars, etc) details you want (ratings, name, location, etc)"
   ]
  },
  {
   "cell_type": "code",
   "execution_count": 105,
   "metadata": {},
   "outputs": [
    {
     "name": "stdout",
     "output_type": "stream",
     "text": [
      "name: Kortteliravintola Hugo, address: Stålarminkatu 2, rating: N/A, categories: Bar, Gastropub\n",
      "name: Vaate & Paikka, address: N/A, rating: N/A, categories: Apparel\n",
      "name: Kasperin Yksiö, address: N/A, rating: N/A, categories: Hotel Bar\n"
     ]
    }
   ],
   "source": [
    "# Put response data into a dict\n",
    "foursquare_data = foursquare_response.json()\n",
    "\n",
    "# Find the appropriate fields for business name, category, address, and rating\n",
    "for business in foursquare_data.get(\"results\", []):\n",
    "    name = business.get(\"name\")\n",
    "    categories = [category[\"short_name\"] for category in business.get(\"categories\", [])]\n",
    "    rating = business.get(\"rating\", 'N/A')\n",
    "    address = business.get(\"location\", {}).get(\"address\", \"N/A\")\n",
    "    print(f\"name: {name}, address: {address}, rating: {rating}, categories: {', '.join(categories)}\")"
   ]
  },
  {
   "cell_type": "markdown",
   "metadata": {},
   "source": [
    "Put your parsed results into a DataFrame"
   ]
  },
  {
   "cell_type": "code",
   "execution_count": 111,
   "metadata": {},
   "outputs": [
    {
     "name": "stdout",
     "output_type": "stream",
     "text": [
      "df was saved to C:/Users/colte/LHL-final-project/data/foursquare_df.csv\n"
     ]
    }
   ],
   "source": [
    "# Extract business list\n",
    "foursquare_businesses = foursquare_data.get(\"results\", [])\n",
    "\n",
    "#Create list of required fields from the foursquare dict\n",
    "foursquare_list = [\n",
    "    {\n",
    "        \"name\": business.get(\"name\"),\n",
    "        \"address\": business.get(\"location\", {}).get(\"address\", \"N/A\"),\n",
    "        \"categories\": \", \".join([category[\"short_name\"] for category in business.get(\"categories\", [])]),\n",
    "        \"rating\": business.get(\"rating\", None),\n",
    "        \"latitude\": business.get(\"geocodes\", {}).get(\"main\", {}).get(\"latitude\", \"N/A\"),\n",
    "        \"longitude\": business.get(\"geocodes\", {}).get(\"main\", {}).get(\"longitude\", \"N/A\")\n",
    "    }\n",
    "    for business in foursquare_businesses\n",
    "]\n",
    "\n",
    "# Convert list to df\n",
    "foursquare_df = pd.DataFrame(foursquare_list)\n",
    "\n",
    "# Create file path for foursquare df\n",
    "foursquare_file_path = \"C:/Users/colte/LHL-final-project/data/foursquare_df.csv\"\n",
    "\n",
    "# Add foursquare_df.csv to file path\n",
    "foursquare_df.to_csv(foursquare_file_path, index=False)\n",
    "\n",
    "print(f\"df was saved to {foursquare_file_path}\")"
   ]
  },
  {
   "cell_type": "markdown",
   "metadata": {},
   "source": [
    "# Yelp"
   ]
  },
  {
   "cell_type": "markdown",
   "metadata": {},
   "source": [
    "Send a request to Yelp with a small radius (1000m) for all the bike stations in your city of choice. "
   ]
  },
  {
   "cell_type": "code",
   "execution_count": 76,
   "metadata": {},
   "outputs": [
    {
     "name": "stdout",
     "output_type": "stream",
     "text": [
      "{\"businesses\": [{\"id\": \"YgoYUU_2snBOLnJlS1Fkew\", \"alias\": \"pub-hopotus-turku\", \"name\": \"Pub Hopotus\", \"image_url\": \"\", \"is_closed\": false, \"url\": \"https://www.yelp.com/biz/pub-hopotus-turku?adjust_creative=csjvSJ0AyxJsx4avWsfL1Q&utm_campaign=yelp_api_v3&utm_medium=api_v3_business_search&utm_source=csjvSJ0AyxJsx4avWsfL1Q\", \"review_count\": 0, \"categories\": [{\"alias\": \"restaurants\", \"title\": \"Restaurants\"}], \"rating\": 0.0, \"coordinates\": {\"latitude\": 60.4394493, \"longitude\": 22.2590599}, \"transactions\": [], \"location\": {\"address1\": \"Kuninkaankartanonkatu 8\", \"address2\": null, \"address3\": null, \"city\": \"Turku\", \"zip_code\": \"20810\", \"country\": \"FI\", \"state\": \"19\", \"display_address\": [\"Kuninkaankartanonkatu 8\", \"20810 Turku\", \"Finland\"]}, \"phone\": \"\", \"display_phone\": \"\", \"distance\": 189.28231097649208, \"business_hours\": [], \"attributes\": {\"business_temp_closed\": null, \"menu_url\": null, \"open24_hours\": null, \"waitlist_reservation\": null}}, {\"id\": \"ds8wMeO071xupvBoMtMZWg\", \"alias\": \"martinm\\u00e4en-kotiruokapalvelu-avoin-turku\", \"name\": \"Martinm\\u00e4en kotiruokapalvelu Avoin\", \"image_url\": \"\", \"is_closed\": false, \"url\": \"https://www.yelp.com/biz/martinm%C3%A4en-kotiruokapalvelu-avoin-turku?adjust_creative=csjvSJ0AyxJsx4avWsfL1Q&utm_campaign=yelp_api_v3&utm_medium=api_v3_business_search&utm_source=csjvSJ0AyxJsx4avWsfL1Q\", \"review_count\": 0, \"categories\": [{\"alias\": \"restaurants\", \"title\": \"Restaurants\"}], \"rating\": 0.0, \"coordinates\": {\"latitude\": 60.4396286, \"longitude\": 22.2536926}, \"transactions\": [], \"location\": {\"address1\": \"Tiilentekij\\u00e4nkatu 10J\", \"address2\": null, \"address3\": null, \"city\": \"Turku\", \"zip_code\": \"20810\", \"country\": \"FI\", \"state\": \"19\", \"display_address\": [\"Tiilentekij\\u00e4nkatu 10J\", \"20810 Turku\", \"Finland\"]}, \"phone\": \"+35822341577\", \"display_phone\": \"+358 2 2341577\", \"distance\": 221.6399452688486, \"business_hours\": [], \"attributes\": {\"business_temp_closed\": null, \"menu_url\": null, \"open24_hours\": null, \"waitlist_reservation\": null}}, {\"id\": \"NSXTXmRu-sN4_ph8ewy1-A\", \"alias\": \"naantalin-aurinkoinen-turku\", \"name\": \"Naantalin Aurinkoinen\", \"image_url\": \"\", \"is_closed\": false, \"url\": \"https://www.yelp.com/biz/naantalin-aurinkoinen-turku?adjust_creative=csjvSJ0AyxJsx4avWsfL1Q&utm_campaign=yelp_api_v3&utm_medium=api_v3_business_search&utm_source=csjvSJ0AyxJsx4avWsfL1Q\", \"review_count\": 0, \"categories\": [{\"alias\": \"restaurants\", \"title\": \"Restaurants\"}], \"rating\": 0.0, \"coordinates\": {\"latitude\": 60.4431305, \"longitude\": 22.2568398}, \"transactions\": [], \"location\": {\"address1\": \"Martinkatu 3\", \"address2\": null, \"address3\": null, \"city\": \"Turku\", \"zip_code\": \"20810\", \"country\": \"FI\", \"state\": \"19\", \"display_address\": [\"Martinkatu 3\", \"20810 Turku\", \"Finland\"]}, \"phone\": \"\", \"display_phone\": \"\", \"distance\": 233.35231059531125, \"business_hours\": [], \"attributes\": {\"business_temp_closed\": null, \"menu_url\": null, \"open24_hours\": null, \"waitlist_reservation\": null}}, {\"id\": \"lmYnJbQtUPh7XQ-KGSsFyA\", \"alias\": \"melange-turku\", \"name\": \"Melange\", \"image_url\": \"\", \"is_closed\": false, \"url\": \"https://www.yelp.com/biz/melange-turku?adjust_creative=csjvSJ0AyxJsx4avWsfL1Q&utm_campaign=yelp_api_v3&utm_medium=api_v3_business_search&utm_source=csjvSJ0AyxJsx4avWsfL1Q\", \"review_count\": 0, \"categories\": [{\"alias\": \"restaurants\", \"title\": \"Restaurants\"}], \"rating\": 0.0, \"coordinates\": {\"latitude\": 60.4431305, \"longitude\": 22.2568398}, \"transactions\": [], \"location\": {\"address1\": \"Martinkatu 3\", \"address2\": null, \"address3\": null, \"city\": \"Turku\", \"zip_code\": \"20810\", \"country\": \"FI\", \"state\": \"19\", \"display_address\": [\"Martinkatu 3\", \"20810 Turku\", \"Finland\"]}, \"phone\": \"+35822300030\", \"display_phone\": \"+358 2 2300030\", \"distance\": 233.35231059531125, \"business_hours\": [], \"attributes\": {\"business_temp_closed\": null, \"menu_url\": null, \"open24_hours\": null, \"waitlist_reservation\": null}}, {\"id\": \"u-b5-NTK7iTMfsgAC-vWHg\", \"alias\": \"maku-turku-turku\", \"name\": \"Maku Turku\", \"image_url\": \"\", \"is_closed\": false, \"url\": \"https://www.yelp.com/biz/maku-turku-turku?adjust_creative=csjvSJ0AyxJsx4avWsfL1Q&utm_campaign=yelp_api_v3&utm_medium=api_v3_business_search&utm_source=csjvSJ0AyxJsx4avWsfL1Q\", \"review_count\": 2, \"categories\": [{\"alias\": \"panasian\", \"title\": \"Pan Asian\"}], \"rating\": 2.5, \"coordinates\": {\"latitude\": 60.4393327654178, \"longitude\": 22.2599692499882}, \"transactions\": [], \"location\": {\"address1\": \"St\\u00e5larminkatu 5\", \"address2\": \"\", \"address3\": null, \"city\": \"Turku\", \"zip_code\": \"20810\", \"country\": \"FI\", \"state\": \"\", \"display_address\": [\"St\\u00e5larminkatu 5\", \"20810 Turku\", \"Finland\"]}, \"phone\": \"\", \"display_phone\": \"\", \"distance\": 263.1313772318753, \"business_hours\": [], \"attributes\": {\"business_temp_closed\": null, \"menu_url\": null, \"open24_hours\": null, \"waitlist_reservation\": null}}, {\"id\": \"-38sdq68lOIPD20zju4hMw\", \"alias\": \"ravintola-pippurimylly-turku\", \"name\": \"Ravintola Pippurimylly\", \"image_url\": \"https://s3-media3.fl.yelpcdn.com/bphoto/VIufvnZHlbXHXe3P5DI8_g/o.jpg\", \"is_closed\": false, \"url\": \"https://www.yelp.com/biz/ravintola-pippurimylly-turku?adjust_creative=csjvSJ0AyxJsx4avWsfL1Q&utm_campaign=yelp_api_v3&utm_medium=api_v3_business_search&utm_source=csjvSJ0AyxJsx4avWsfL1Q\", \"review_count\": 7, \"categories\": [{\"alias\": \"steak\", \"title\": \"Steakhouses\"}], \"rating\": 4.7, \"coordinates\": {\"latitude\": 60.4390396536043, \"longitude\": 22.2593031967942}, \"transactions\": [], \"price\": \"\\u20ac\\u20ac\", \"location\": {\"address1\": \"St\\u00e5larminkatu 2\", \"address2\": \"St\\u00e5larmsgatan 2\", \"address3\": null, \"city\": \"Turku\", \"zip_code\": \"20810\", \"country\": \"FI\", \"state\": \"19\", \"display_address\": [\"St\\u00e5larminkatu 2\", \"St\\u00e5larmsgatan 2\", \"20810 Turku\", \"Finland\"]}, \"phone\": \"+35822773350\", \"display_phone\": \"+358 2 2773350\", \"distance\": 265.0644381537973, \"business_hours\": [{\"open\": [{\"is_overnight\": false, \"start\": \"1100\", \"end\": \"2300\", \"day\": 0}, {\"is_overnight\": false, \"start\": \"1100\", \"end\": \"2300\", \"day\": 1}, {\"is_overnight\": false, \"start\": \"1100\", \"end\": \"2300\", \"day\": 2}, {\"is_overnight\": false, \"start\": \"1100\", \"end\": \"2300\", \"day\": 3}, {\"is_overnight\": false, \"start\": \"1100\", \"end\": \"2300\", \"day\": 4}, {\"is_overnight\": false, \"start\": \"1200\", \"end\": \"2300\", \"day\": 5}, {\"is_overnight\": false, \"start\": \"1200\", \"end\": \"2100\", \"day\": 6}], \"hours_type\": \"REGULAR\", \"is_open_now\": true}], \"attributes\": {\"business_temp_closed\": null, \"menu_url\": null, \"open24_hours\": null, \"waitlist_reservation\": null}}, {\"id\": \"fxihalIEheI4U0evt_j-zw\", \"alias\": \"designed-by-oodi-pr-turku\", \"name\": \"designed by oodi pr\", \"image_url\": \"\", \"is_closed\": false, \"url\": \"https://www.yelp.com/biz/designed-by-oodi-pr-turku?adjust_creative=csjvSJ0AyxJsx4avWsfL1Q&utm_campaign=yelp_api_v3&utm_medium=api_v3_business_search&utm_source=csjvSJ0AyxJsx4avWsfL1Q\", \"review_count\": 0, \"categories\": [{\"alias\": \"restaurants\", \"title\": \"Restaurants\"}], \"rating\": 0.0, \"coordinates\": {\"latitude\": 60.4404411, \"longitude\": 22.2517891}, \"transactions\": [], \"location\": {\"address1\": \"Tiilentekij\\u00e4nkatu 3B A\", \"address2\": null, \"address3\": null, \"city\": \"Turku\", \"zip_code\": \"20810\", \"country\": \"FI\", \"state\": \"19\", \"display_address\": [\"Tiilentekij\\u00e4nkatu 3B A\", \"20810 Turku\", \"Finland\"]}, \"phone\": \"\", \"display_phone\": \"\", \"distance\": 266.8916005722074, \"business_hours\": [], \"attributes\": {\"business_temp_closed\": null, \"menu_url\": null, \"open24_hours\": null, \"waitlist_reservation\": null}}, {\"id\": \"akXzGnY0Tc2HiBMGhvvKmw\", \"alias\": \"haarala-tiina-turku\", \"name\": \"Haarala Tiina\", \"image_url\": \"\", \"is_closed\": false, \"url\": \"https://www.yelp.com/biz/haarala-tiina-turku?adjust_creative=csjvSJ0AyxJsx4avWsfL1Q&utm_campaign=yelp_api_v3&utm_medium=api_v3_business_search&utm_source=csjvSJ0AyxJsx4avWsfL1Q\", \"review_count\": 0, \"categories\": [{\"alias\": \"restaurants\", \"title\": \"Restaurants\"}], \"rating\": 0.0, \"coordinates\": {\"latitude\": 60.442749, \"longitude\": 22.2545109}, \"transactions\": [], \"location\": {\"address1\": \"It\\u00e4inen Rantakatu 48H 242\", \"address2\": null, \"address3\": null, \"city\": \"Turku\", \"zip_code\": \"20810\", \"country\": \"FI\", \"state\": \"19\", \"display_address\": [\"It\\u00e4inen Rantakatu 48H 242\", \"20810 Turku\", \"Finland\"]}, \"phone\": \"+35823410557\", \"display_phone\": \"+358 2 3410557\", \"distance\": 276.47564772872215, \"business_hours\": [], \"attributes\": {\"business_temp_closed\": null, \"menu_url\": null, \"open24_hours\": null, \"waitlist_reservation\": null}}, {\"id\": \"oYsU0tSsHOwZ0j7uoocSxA\", \"alias\": \"ravintola-pizzeria-ranta-osku-avoin-turku\", \"name\": \"Ravintola-Pizzeria Ranta-Osku avoin\", \"image_url\": \"\", \"is_closed\": false, \"url\": \"https://www.yelp.com/biz/ravintola-pizzeria-ranta-osku-avoin-turku?adjust_creative=csjvSJ0AyxJsx4avWsfL1Q&utm_campaign=yelp_api_v3&utm_medium=api_v3_business_search&utm_source=csjvSJ0AyxJsx4avWsfL1Q\", \"review_count\": 0, \"categories\": [{\"alias\": \"restaurants\", \"title\": \"Restaurants\"}], \"rating\": 0.0, \"coordinates\": {\"latitude\": 60.4435806, \"longitude\": 22.2561607}, \"transactions\": [], \"location\": {\"address1\": \"Martinkatu 1\", \"address2\": null, \"address3\": null, \"city\": \"Turku\", \"zip_code\": \"20810\", \"country\": \"FI\", \"state\": \"19\", \"display_address\": [\"Martinkatu 1\", \"20810 Turku\", \"Finland\"]}, \"phone\": \"+35822344314\", \"display_phone\": \"+358 2 2344314\", \"distance\": 282.97448629056487, \"business_hours\": [], \"attributes\": {\"business_temp_closed\": null, \"menu_url\": null, \"open24_hours\": null, \"waitlist_reservation\": null}}, {\"id\": \"9vZ0IFzLl5Vd8SW2ynzl4w\", \"alias\": \"t-mi-maryam-m-turku\", \"name\": \"T:mi Maryam-M\", \"image_url\": \"\", \"is_closed\": false, \"url\": \"https://www.yelp.com/biz/t-mi-maryam-m-turku?adjust_creative=csjvSJ0AyxJsx4avWsfL1Q&utm_campaign=yelp_api_v3&utm_medium=api_v3_business_search&utm_source=csjvSJ0AyxJsx4avWsfL1Q\", \"review_count\": 0, \"categories\": [{\"alias\": \"restaurants\", \"title\": \"Restaurants\"}], \"rating\": 0.0, \"coordinates\": {\"latitude\": 60.4435806, \"longitude\": 22.2561607}, \"transactions\": [], \"location\": {\"address1\": \"Martinkatu 1\", \"address2\": null, \"address3\": null, \"city\": \"Turku\", \"zip_code\": \"20810\", \"country\": \"FI\", \"state\": \"19\", \"display_address\": [\"Martinkatu 1\", \"20810 Turku\", \"Finland\"]}, \"phone\": \"+358400420839\", \"display_phone\": \"+358 40 0420839\", \"distance\": 282.97448629056487, \"business_hours\": [], \"attributes\": {\"business_temp_closed\": null, \"menu_url\": null, \"open24_hours\": null, \"waitlist_reservation\": null}}], \"total\": 355, \"region\": {\"center\": {\"longitude\": 22.2565895, \"latitude\": 60.441012}}}\n"
     ]
    }
   ],
   "source": [
    "# Yelp API Key\n",
    "YELP_KEY = 'ny8E6_YvMJMaxR8895q-m4dxWtNwB0HaxfYWA78EJ0xKTlhPHTo6hbN-oqeDea6SYJcR6xHtBGnmXm5QH8n3ohjlg63LkCG5BGgVkJppyyLJ1N08bdYbCzsTGPtYZ3Yx'\n",
    "\n",
    "# Yelp url\n",
    "yelp_url = \"https://api.yelp.com/v3/businesses/search\"\n",
    "\n",
    "# Yelp categories for params\n",
    "yelp_categories = \"restaurants, bars, streetwear, sneakers, clothing, shoe\"\n",
    "\n",
    "#Yelp header\n",
    "yelp_headers = {\n",
    "    \"accept\": \"application/json\",\n",
    "    \"Authorization\": f\"Bearer {YELP_KEY}\"\n",
    "}\n",
    "\n",
    "yelp_params = {\n",
    "    \"sort_by\": \"distance\",\n",
    "    \"limit\": 10,\n",
    "    \"radius\": 1000,\n",
    "    \"latitude\": latitude,\n",
    "    \"longitude\": longitude,\n",
    "    \"categories\": yelp_categories\n",
    "}\n",
    "\n",
    "response = requests.get(yelp_url, headers=yelp_headers, params=yelp_params)\n",
    "\n",
    "print(response.text)"
   ]
  },
  {
   "cell_type": "markdown",
   "metadata": {},
   "source": [
    "Parse through the response to get the POI (such as restaurants, bars, etc) details you want (ratings, name, location, etc)"
   ]
  },
  {
   "cell_type": "code",
   "execution_count": 78,
   "metadata": {},
   "outputs": [
    {
     "name": "stdout",
     "output_type": "stream",
     "text": [
      "name: Pub Hopotus, address: Kuninkaankartanonkatu 8, rating: 0.0, categories: Restaurants\n",
      "name: Martinmäen kotiruokapalvelu Avoin, address: Tiilentekijänkatu 10J, rating: 0.0, categories: Restaurants\n",
      "name: Naantalin Aurinkoinen, address: Martinkatu 3, rating: 0.0, categories: Restaurants\n",
      "name: Melange, address: Martinkatu 3, rating: 0.0, categories: Restaurants\n",
      "name: Maku Turku, address: Stålarminkatu 5, rating: 2.5, categories: Pan Asian\n",
      "name: Ravintola Pippurimylly, address: Stålarminkatu 2, rating: 4.7, categories: Steakhouses\n",
      "name: designed by oodi pr, address: Tiilentekijänkatu 3B A, rating: 0.0, categories: Restaurants\n",
      "name: Haarala Tiina, address: Itäinen Rantakatu 48H 242, rating: 0.0, categories: Restaurants\n",
      "name: Ravintola-Pizzeria Ranta-Osku avoin, address: Martinkatu 1, rating: 0.0, categories: Restaurants\n",
      "name: T:mi Maryam-M, address: Martinkatu 1, rating: 0.0, categories: Restaurants\n"
     ]
    }
   ],
   "source": [
    "# Put response data into a dict\n",
    "yelp_data = response.json()\n",
    "\n",
    "# Find the appropriate fields for business name, category, address, and rating\n",
    "for business in yelp_data.get(\"businesses\", []):\n",
    "    name = business.get(\"name\")\n",
    "    categories = [category[\"title\"] for category in business.get(\"categories\", [])]\n",
    "    rating = business.get(\"rating\", 'N/A')\n",
    "    address = business.get(\"location\", {}).get(\"address1\", \"\")\n",
    "    print(f\"name: {name}, address: {address}, rating: {rating}, categories: {', '.join(categories)}\")"
   ]
  },
  {
   "cell_type": "markdown",
   "metadata": {},
   "source": [
    "Put your parsed results into a DataFrame"
   ]
  },
  {
   "cell_type": "code",
   "execution_count": 80,
   "metadata": {},
   "outputs": [
    {
     "name": "stdout",
     "output_type": "stream",
     "text": [
      "df was saved to C:/Users/colte/LHL-final-project/data/yelp_df.csv\n"
     ]
    }
   ],
   "source": [
    "# Extract business list\n",
    "yelp_businesses = yelp_data.get(\"businesses\", [])\n",
    "\n",
    "#Create list of required fields from the yelp dict\n",
    "yelp_list = [\n",
    "    {\n",
    "        \"name\": business.get(\"name\"),\n",
    "        \"address\": business.get(\"location\", {}).get(\"address1\", \"\"),\n",
    "        \"categories\": \", \".join([category[\"title\"] for category in business.get(\"categories\", [])]),\n",
    "        \"rating\": business.get(\"rating\", None),\n",
    "        \"latitude\": business.get(\"coordinates\", {}).get(\"latitude\"),\n",
    "        \"longitude\": business.get(\"coordinates\", {}).get(\"longitude\")\n",
    "    }\n",
    "    for business in yelp_businesses\n",
    "]\n",
    "\n",
    "# Convert list to df\n",
    "yelp_df = pd.DataFrame(yelp_list)\n",
    "\n",
    "# Create file path for yelp df\n",
    "yelp_file_path = \"C:/Users/colte/LHL-final-project/data/yelp_df.csv\"\n",
    "\n",
    "# Add yelp_df.csv to file path\n",
    "yelp_df.to_csv(yelp_file_path, index=False)\n",
    "\n",
    "print(f\"df was saved to {yelp_file_path}\")"
   ]
  },
  {
   "cell_type": "markdown",
   "metadata": {},
   "source": [
    "# Comparing Results"
   ]
  },
  {
   "cell_type": "markdown",
   "metadata": {},
   "source": [
    "Which API provided you with more complete data? Provide an explanation. "
   ]
  },
  {
   "cell_type": "markdown",
   "metadata": {},
   "source": []
  },
  {
   "cell_type": "markdown",
   "metadata": {},
   "source": [
    "Get the top 10 restaurants according to their rating"
   ]
  },
  {
   "cell_type": "code",
   "execution_count": null,
   "metadata": {},
   "outputs": [],
   "source": []
  }
 ],
 "metadata": {
  "kernelspec": {
   "display_name": "Python 3 (ipykernel)",
   "language": "python",
   "name": "python3"
  },
  "language_info": {
   "codemirror_mode": {
    "name": "ipython",
    "version": 3
   },
   "file_extension": ".py",
   "mimetype": "text/x-python",
   "name": "python",
   "nbconvert_exporter": "python",
   "pygments_lexer": "ipython3",
   "version": "3.12.7"
  }
 },
 "nbformat": 4,
 "nbformat_minor": 4
}
